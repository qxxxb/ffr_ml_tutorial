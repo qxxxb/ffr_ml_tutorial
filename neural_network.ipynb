{
 "cells": [
  {
   "cell_type": "markdown",
   "id": "0f6bc273-5fbc-4625-9dae-814df1dd157e",
   "metadata": {},
   "source": [
    "# Predicting FFRs using a neural network"
   ]
  },
  {
   "cell_type": "code",
   "execution_count": 63,
   "id": "b3516dfa-9693-4fbe-8458-9f2e2cc46f6e",
   "metadata": {},
   "outputs": [
    {
     "name": "stdout",
     "output_type": "stream",
     "text": [
      "Using cpu device\n"
     ]
    }
   ],
   "source": [
    "import numpy as np\n",
    "import pandas as pd\n",
    "import torch\n",
    "from torch import nn\n",
    "from torch.utils.data import DataLoader, TensorDataset\n",
    "from sklearn.preprocessing import StandardScaler\n",
    "from sklearn.model_selection import train_test_split\n",
    "import matplotlib.pyplot as plt\n",
    "\n",
    "device = \"cuda\" if torch.cuda.is_available() else \"cpu\"\n",
    "print(f\"Using {device} device\")\n",
    "\n",
    "plt.rcParams['figure.figsize'] = [8, 4]"
   ]
  },
  {
   "cell_type": "code",
   "execution_count": 64,
   "id": "4e95e78e-e00a-41a3-b629-687421724c43",
   "metadata": {},
   "outputs": [],
   "source": [
    "df = pd.read_csv(\"FFR_data.csv\")\n",
    "df.dropna(inplace=True)"
   ]
  },
  {
   "cell_type": "code",
   "execution_count": 65,
   "id": "26f64537-c832-4164-8b70-fad7969010c9",
   "metadata": {},
   "outputs": [],
   "source": [
    "X = df.drop(columns=[\"FFR\"])\n",
    "y = df[[\"FFR\"]]\n",
    "\n",
    "scaler = StandardScaler()\n",
    "X = scaler.fit_transform(X)\n",
    "\n",
    "X = torch.Tensor(X).to(device)\n",
    "y = torch.Tensor(y.values).to(device)\n",
    "X_train, X_test, y_train, y_test = train_test_split(X, y)\n",
    "\n",
    "batch_size = 12\n",
    "train_data = TensorDataset(X_train, y_train)\n",
    "train_dataloader = DataLoader(train_data, batch_size=batch_size)"
   ]
  },
  {
   "cell_type": "markdown",
   "id": "9b5f9b8c-1f81-4bd1-b442-2e28ef2aff52",
   "metadata": {},
   "source": [
    "Note: Due to the relatively small size of the dataset, model performance may differ depending on the random state of `train_test_split()`."
   ]
  },
  {
   "cell_type": "code",
   "execution_count": 66,
   "id": "22d25a4c-bb47-4476-b89f-90a47b2c9797",
   "metadata": {},
   "outputs": [
    {
     "name": "stdout",
     "output_type": "stream",
     "text": [
      "NeuralNetwork(\n",
      "  (flatten): Flatten(start_dim=1, end_dim=-1)\n",
      "  (stack): Sequential(\n",
      "    (0): Linear(in_features=6, out_features=3, bias=True)\n",
      "    (1): Sigmoid()\n",
      "    (2): Linear(in_features=3, out_features=3, bias=True)\n",
      "    (3): Sigmoid()\n",
      "    (4): Linear(in_features=3, out_features=1, bias=True)\n",
      "  )\n",
      ")\n"
     ]
    }
   ],
   "source": [
    "class NeuralNetwork(nn.Module):\n",
    "    def __init__(self):\n",
    "        super(NeuralNetwork, self).__init__()\n",
    "        self.flatten = nn.Flatten()\n",
    "        self.stack = nn.Sequential(\n",
    "            nn.Linear(6, 3),\n",
    "            nn.Sigmoid(),\n",
    "            nn.Linear(3, 3),\n",
    "            nn.Sigmoid(),\n",
    "            nn.Linear(3, 1),\n",
    "        )\n",
    "\n",
    "    def forward(self, x):\n",
    "        x = self.flatten(x)\n",
    "        return self.stack(x)\n",
    "    \n",
    "model = NeuralNetwork().to(device)\n",
    "print(model)"
   ]
  },
  {
   "cell_type": "code",
   "execution_count": 67,
   "id": "3c51f9cd-d23c-4fa1-a6d3-12596aa2c342",
   "metadata": {},
   "outputs": [],
   "source": [
    "@torch.no_grad()\n",
    "def accuracy_score(y, y_pred):\n",
    "    y = y.flatten()\n",
    "    y_pred = y_pred.flatten()\n",
    "    y_pred_labels = torch.round(torch.sigmoid(y_pred))\n",
    "    ans = (y == y_pred_labels).sum() / y.shape[0]\n",
    "    return float(ans.detach().cpu())"
   ]
  },
  {
   "cell_type": "code",
   "execution_count": 68,
   "id": "fba54ba0-235b-4228-9f12-fe333404bc6e",
   "metadata": {},
   "outputs": [
    {
     "name": "stdout",
     "output_type": "stream",
     "text": [
      "Epoch: 0000, Train loss: 0.79523, Test loss: 0.73132, Test accuracy: 0.50000\n",
      "Epoch: 0100, Train loss: 0.24923, Test loss: 0.32669, Test accuracy: 0.91667\n",
      "Epoch: 0200, Train loss: 0.08724, Test loss: 0.11479, Test accuracy: 1.00000\n",
      "Epoch: 0300, Train loss: 0.03716, Test loss: 0.06845, Test accuracy: 1.00000\n",
      "Epoch: 0400, Train loss: 0.01994, Test loss: 0.05856, Test accuracy: 1.00000\n",
      "Epoch: 0500, Train loss: 0.01261, Test loss: 0.05052, Test accuracy: 1.00000\n",
      "Epoch: 0600, Train loss: 0.00881, Test loss: 0.04340, Test accuracy: 1.00000\n",
      "Epoch: 0700, Train loss: 0.00655, Test loss: 0.03719, Test accuracy: 1.00000\n",
      "Epoch: 0800, Train loss: 0.00508, Test loss: 0.03182, Test accuracy: 1.00000\n",
      "Epoch: 0900, Train loss: 0.00406, Test loss: 0.02719, Test accuracy: 1.00000\n"
     ]
    }
   ],
   "source": [
    "criterion = nn.BCEWithLogitsLoss()\n",
    "optimizer = torch.optim.AdamW(model.parameters(), lr=0.005)\n",
    "\n",
    "# Record some data during training\n",
    "train_losses = []\n",
    "test_losses = []\n",
    "test_accuracies = []\n",
    "\n",
    "for epoch in range(1000):\n",
    "    for batch, (X, y) in enumerate(train_dataloader):\n",
    "        optimizer.zero_grad()\n",
    "        output = model(X_train)\n",
    "        loss = criterion(output, y_train)\n",
    "        loss.backward()\n",
    "        optimizer.step()\n",
    "\n",
    "        train_loss = float(loss.detach().cpu())\n",
    "        train_losses.append(train_loss)\n",
    "\n",
    "        with torch.no_grad():\n",
    "            output = model(X_test)\n",
    "            loss = criterion(output, y_test)\n",
    "            test_loss = float(loss.detach().cpu())\n",
    "            test_losses.append(test_loss)\n",
    "\n",
    "            test_accuracy = accuracy_score(y_test, output)\n",
    "            test_accuracies.append(test_accuracy)\n",
    "\n",
    "    if epoch % 100 == 0:\n",
    "        print(\n",
    "            f\"Epoch: {epoch:04}, Train loss: {train_loss:.5f}, Test loss: {test_loss:.5f}, Test accuracy: {test_accuracy:.5f}\"\n",
    "        )"
   ]
  },
  {
   "cell_type": "code",
   "execution_count": 69,
   "id": "9d471d41-18a3-4d6b-8c0b-34a9082cf4cb",
   "metadata": {},
   "outputs": [],
   "source": [
    "def plot_training_data(train_losses, test_losses, test_accuracies):\n",
    "    fig, ax1 = plt.subplots()\n",
    "    ax1.set_title(\"Training data\")\n",
    "\n",
    "    color = \"tab:blue\"\n",
    "    ax1.set_xlabel(\"Batch\")\n",
    "    ax1.set_ylabel(\"Loss\", color=color)\n",
    "    ax1.tick_params(axis=\"y\", labelcolor=color)\n",
    "    batches = list(range(len(train_losses)))\n",
    "\n",
    "    ax1.plot(batches, train_losses, label=\"train loss\", color=color)\n",
    "    ax1.plot(batches, test_losses, label=\"test loss\", linestyle=\"dashed\", color=color)\n",
    "\n",
    "    color = \"tab:green\"\n",
    "    ax2 = ax1.twinx()\n",
    "    ax2.set_ylabel(\"Accuracy\", color=color)\n",
    "    ax2.tick_params(axis=\"y\", labelcolor=color)\n",
    "    ax2.plot(batches, test_accuracies, label=\"test accuracy\", color=color)\n",
    "\n",
    "    h1, l1 = ax1.get_legend_handles_labels()\n",
    "    h2, l2 = ax2.get_legend_handles_labels()\n",
    "    ax1.legend(h1 + h2, l1 + l2, loc=\"right\")\n",
    "\n",
    "    fig.tight_layout()"
   ]
  },
  {
   "cell_type": "code",
   "execution_count": 70,
   "id": "2a01be99-deae-4584-9e45-53e12166344c",
   "metadata": {},
   "outputs": [
    {
     "name": "stdout",
     "output_type": "stream",
     "text": [
      "Final test accuracy: 1.0\n"
     ]
    },
    {
     "data": {
      "image/png": "[encoded data removed]",
      "text/plain": [
       "<Figure size 576x288 with 2 Axes>"
      ]
     },
     "metadata": {
      "needs_background": "light"
     },
     "output_type": "display_data"
    }
   ],
   "source": [
    "print(f\"Final test accuracy: {test_accuracies[-1]}\")\n",
    "plot_training_data(train_losses, test_losses, test_accuracies)"
   ]
  }
 ],
 "metadata": {
  "kernelspec": {
   "display_name": "Python 3",
   "language": "python",
   "name": "python3"
  },
  "language_info": {
   "codemirror_mode": {
    "name": "ipython",
    "version": 3
   },
   "file_extension": ".py",
   "mimetype": "text/x-python",
   "name": "python",
   "nbconvert_exporter": "python",
   "pygments_lexer": "ipython3",
   "version": "3.8.5"
  }
 },
 "nbformat": 4,
 "nbformat_minor": 5
}
