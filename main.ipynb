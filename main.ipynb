{
 "cells": [
  {
   "cell_type": "code",
   "execution_count": 1,
   "id": "3903b87d-4a68-4d43-91e4-85b7416844b4",
   "metadata": {},
   "outputs": [],
   "source": [
    "import numpy as np\n",
    "import pandas as pd\n",
    "import matplotlib.pyplot as plt\n",
    "from sklearn.model_selection import train_test_split\n",
    "from sklearn.metrics import accuracy_score"
   ]
  },
  {
   "cell_type": "code",
   "execution_count": 2,
   "id": "ee4505f0-c76f-4223-a983-877471ab1466",
   "metadata": {},
   "outputs": [],
   "source": [
    "df = pd.read_csv(\"FFR_data.csv\")\n",
    "df.dropna(inplace=True)\n",
    "\n",
    "N_SPLITS = 100\n",
    "TEST_SIZE = 0.25"
   ]
  },
  {
   "cell_type": "markdown",
   "id": "2cde2daa-7f94-4115-b04f-a88f25852507",
   "metadata": {},
   "source": [
    "# Predicting pitch strength using other features aside from FFR\n",
    "\n",
    "Pitch strength is a continuous variable, so we can use a regression model for this task. Here we choose to use linear regression."
   ]
  },
  {
   "cell_type": "code",
   "execution_count": 3,
   "id": "6a7dbfb7-71b9-4d9f-bfbb-d29444d712d9",
   "metadata": {},
   "outputs": [],
   "source": [
    "X = df.drop(columns=[\"FFR\", \"PitchStrength\"]).values\n",
    "y = df[[\"PitchStrength\"]].values.flatten()"
   ]
  },
  {
   "cell_type": "code",
   "execution_count": 4,
   "id": "93f2f09f-ce80-4ae8-837d-db7c903078da",
   "metadata": {},
   "outputs": [
    {
     "name": "stdout",
     "output_type": "stream",
     "text": [
      "Model: Linear regression\n",
      "R^2 score:\n",
      "Mean: 0.63366, Std: 0.16160\n"
     ]
    }
   ],
   "source": [
    "from sklearn.linear_model import LinearRegression\n",
    "print(\"Model: Linear regression\")\n",
    "\n",
    "scores = []\n",
    "for i in range(N_SPLITS):\n",
    "    X_train, X_test, y_train, y_test = train_test_split(X, y, test_size=TEST_SIZE)\n",
    "    model = LinearRegression().fit(X_train, y_train)\n",
    "    score = model.score(X_test, y_test)\n",
    "    scores.append(score)\n",
    "\n",
    "print(\"R^2 score:\")\n",
    "print(\"Mean: {:.5f}, Std: {:.5f}\".format(np.mean(scores), np.std(scores)))"
   ]
  },
  {
   "cell_type": "markdown",
   "id": "971d67b9-1fa8-407c-a99d-e44086dd4e3f",
   "metadata": {},
   "source": [
    "# Predicting FFRs using other features\n",
    "The FFR values are either 0 or 1, so we can use various binary classification models for this task."
   ]
  },
  {
   "cell_type": "code",
   "execution_count": 5,
   "id": "ea305ad5-6557-47f3-baf5-ed25c00a146e",
   "metadata": {},
   "outputs": [],
   "source": [
    "X = df.drop(columns=[\"FFR\"]).values\n",
    "y = df[[\"FFR\"]].values.flatten()"
   ]
  },
  {
   "cell_type": "markdown",
   "id": "72153d64-1ecd-4a34-8ede-2112b4273b40",
   "metadata": {},
   "source": [
    "## Supervised learning"
   ]
  },
  {
   "cell_type": "code",
   "execution_count": 6,
   "id": "9e700a3d-83b0-456b-b6a9-1eb3c28f6be3",
   "metadata": {},
   "outputs": [
    {
     "name": "stdout",
     "output_type": "stream",
     "text": [
      "Model: Logistic regression\n",
      "Accuracy:\n",
      "Mean: 0.91000, Std: 0.07699\n"
     ]
    }
   ],
   "source": [
    "from sklearn.linear_model import LogisticRegression\n",
    "print(\"Model: Logistic regression\")\n",
    "\n",
    "scores = []\n",
    "for i in range(N_SPLITS):\n",
    "    X_train, X_test, y_train, y_test = train_test_split(X, y, test_size=TEST_SIZE)\n",
    "    model = LogisticRegression().fit(X_train, y_train.flatten())\n",
    "    score = accuracy_score(model.predict(X_test), y_test)\n",
    "    scores.append(score)\n",
    "\n",
    "print(\"Accuracy:\")\n",
    "print(\"Mean: {:.5f}, Std: {:.5f}\".format(np.mean(scores), np.std(scores)))"
   ]
  },
  {
   "cell_type": "code",
   "execution_count": 7,
   "id": "6bab026a-1cb8-442d-8771-0cdeca74c9f0",
   "metadata": {},
   "outputs": [
    {
     "name": "stdout",
     "output_type": "stream",
     "text": [
      "Model: Support vector classifier\n",
      "Accuracy:\n",
      "Mean: 0.91500, Std: 0.06870\n"
     ]
    }
   ],
   "source": [
    "from sklearn.svm import SVC\n",
    "print(\"Model: Support vector classifier\")\n",
    "\n",
    "scores = []\n",
    "for i in range(N_SPLITS):\n",
    "    X_train, X_test, y_train, y_test = train_test_split(X, y, test_size=TEST_SIZE)\n",
    "    model = SVC().fit(X_train, y_train)\n",
    "    score = accuracy_score(model.predict(X_test), y_test)\n",
    "    scores.append(score)\n",
    "\n",
    "print(\"Accuracy:\")\n",
    "print(\"Mean: {:.5f}, Std: {:.5f}\".format(np.mean(scores), np.std(scores)))"
   ]
  },
  {
   "cell_type": "code",
   "execution_count": 8,
   "id": "3f66327f-930f-4ddd-a581-71012ef30753",
   "metadata": {},
   "outputs": [
    {
     "name": "stdout",
     "output_type": "stream",
     "text": [
      "Model: k-nearest neighbors\n",
      "Accuracy:\n",
      "Mean: 0.92500, Std: 0.06292\n"
     ]
    }
   ],
   "source": [
    "from sklearn.neighbors import KNeighborsClassifier\n",
    "print(\"Model: k-nearest neighbors\")\n",
    "\n",
    "scores = []\n",
    "for i in range(N_SPLITS):\n",
    "    X_train, X_test, y_train, y_test = train_test_split(X, y, test_size=TEST_SIZE)\n",
    "    model = KNeighborsClassifier(n_neighbors=5).fit(X_train, y_train)\n",
    "    score = accuracy_score(model.predict(X_test), y_test)\n",
    "    scores.append(score)\n",
    "\n",
    "print(\"Accuracy:\")\n",
    "print(\"Mean: {:.5f}, Std: {:.5f}\".format(np.mean(scores), np.std(scores)))"
   ]
  },
  {
   "cell_type": "markdown",
   "id": "7c848905-849f-4c3b-a6c4-e5ae3520638b",
   "metadata": {},
   "source": [
    "## Unsupervised learning"
   ]
  },
  {
   "cell_type": "code",
   "execution_count": 9,
   "id": "c4bbb053-90a9-480b-a93b-c6eaf2052613",
   "metadata": {},
   "outputs": [
    {
     "name": "stdout",
     "output_type": "stream",
     "text": [
      "Model: k-means clustering\n",
      "Accuracy:\n",
      "Mean: 0.93750, Std: 0.00000\n"
     ]
    }
   ],
   "source": [
    "from sklearn.cluster import KMeans\n",
    "print(\"Model: k-means clustering\")\n",
    "\n",
    "scores = []\n",
    "for i in range(N_SPLITS):\n",
    "    X_train, X_test, y_train, y_test = train_test_split(X, y, test_size=TEST_SIZE)\n",
    "    model = KMeans(n_clusters=2).fit(X)\n",
    "    y_pred = model.predict(X)\n",
    "    score = accuracy_score(y, y_pred)\n",
    "    score = max(score, 1 - score)  # The labels could be inverted\n",
    "    scores.append(score)\n",
    "\n",
    "print(\"Accuracy:\")\n",
    "print(\"Mean: {:.5f}, Std: {:.5f}\".format(np.mean(scores), np.std(scores)))"
   ]
  }
 ],
 "metadata": {
  "kernelspec": {
   "display_name": "Python 3",
   "language": "python",
   "name": "python3"
  },
  "language_info": {
   "codemirror_mode": {
    "name": "ipython",
    "version": 3
   },
   "file_extension": ".py",
   "mimetype": "text/x-python",
   "name": "python",
   "nbconvert_exporter": "python",
   "pygments_lexer": "ipython3",
   "version": "3.8.5"
  }
 },
 "nbformat": 4,
 "nbformat_minor": 5
}
